{
 "cells": [
  {
   "attachments": {},
   "cell_type": "markdown",
   "id": "f1615b5a",
   "metadata": {},
   "source": [
    "# Tobias Rose 2023 - RSPACE link to datajoint\n",
    "\n",
    "## Goal:\n",
    "\n",
    "### Each session ingest should generate a session document in the folder belonging to that animal. \n",
    "\n",
    "Information to be dumped\n",
    "```\n",
    "session_id\n",
    "scan_id\n",
    "animal_info\n",
    "full session info with equipment, project, region\n",
    "\n",
    "\n",
    "session_comment\n",
    "scan_comment\n",
    "scan_info\n",
    "server folder name\n",
    "all consolidated filenames\n",
    "\n",
    "```"
   ]
  },
  {
   "cell_type": "markdown",
   "id": "969a6f99",
   "metadata": {},
   "source": [
    "### Working with RSpace data.\n",
    "\n",
    "This notebook illustrates a workflow to get data from RSpace, analyse it, and send back results to RSpace.\n",
    "To work with this tutorial, you'll need an account on RSpace, an RSpace API key and Python 3.6 or later.\n",
    "\n",
    "This project requires modules `rspace_client` (Version 2) , `pandas` and `matplotlib`.\n",
    "\n",
    "To install rspace client `pip install rspace-client==2.0.1`\n",
    "\n",
    "The top-level README.md has more information on getting set up. \n",
    "\n",
    "The notebook is split into 3 sections:\n",
    "\n",
    "1. Adding some data to RSpace to analyse. In reality, this might be done manually by a wet-lab scientist or be delivered programmatically by an instrument. \n",
    "2. Getting the datasets to analyse\n",
    "3. Sending back the  analysis linked to an experimental record"
   ]
  },
  {
   "cell_type": "markdown",
   "id": "61f18825",
   "metadata": {},
   "source": [
    "#### Setup Step 1 - configuring the RSpace Client. `rspace_client` is available from pip.\n",
    "\n",
    "It's good practice to store API keys as environment variables rather than hard-coding it."
   ]
  },
  {
   "cell_type": "code",
   "execution_count": null,
   "id": "d87b348c",
   "metadata": {},
   "outputs": [
    {
     "data": {
      "text/plain": [
       "{'message': 'OK', 'rspaceVersion': '1.80.1'}"
      ]
     },
     "execution_count": 47,
     "metadata": {},
     "output_type": "execute_result"
    }
   ],
   "source": [
    "from rspace_client.eln import eln\n",
    "import os\n",
    "\n",
    "\n",
    "#API_KEY=os.environ.get('RSPACE_API_KEY')\n",
    "#URL=os.environ.get('RSPACE_URL')\n",
    "URL='https://rspace.rhrz.uni-bonn.de/'\n",
    "API_KEY='SvMDsvzYNfJY36E0aHc5c2TriwsHWqs5'\n",
    "\n",
    "api = eln.ELNClient(URL, API_KEY)\n",
    "\n",
    "## sanity check that that the client is configured correctly\n",
    "api.get_status()\n",
    "\n",
    "\n",
    "\n",
    "#TR: check https://github.com/rspace-os/rspace-client-python/blob/9b2f0cffe82fd4e85b410daf6d574abcec5c1ca7/rspace_client/eln/eln.py#L798"
   ]
  },
  {
   "cell_type": "markdown",
   "id": "6d75e373",
   "metadata": {},
   "source": [
    "## Find a folder associated with an animal"
   ]
  },
  {
   "cell_type": "markdown",
   "id": "d9fc8f28",
   "metadata": {},
   "source": [
    "Get all folder IDs and their folder names of a single user"
   ]
  },
  {
   "cell_type": "code",
   "execution_count": 63,
   "id": "1190fd04",
   "metadata": {},
   "outputs": [
    {
     "ename": "SyntaxError",
     "evalue": "invalid syntax (2864958797.py, line 1)",
     "output_type": "error",
     "traceback": [
      "\u001b[0;36m  Cell \u001b[0;32mIn[63], line 1\u001b[0;36m\u001b[0m\n\u001b[0;31m    response = api.get_folder{1}\u001b[0m\n\u001b[0m                             ^\u001b[0m\n\u001b[0;31mSyntaxError\u001b[0m\u001b[0;31m:\u001b[0m invalid syntax\n"
     ]
    }
   ],
   "source": [
    "response = api.get_folder{1}"
   ]
  },
  {
   "cell_type": "code",
   "execution_count": 55,
   "id": "cdc05f83",
   "metadata": {},
   "outputs": [
    {
     "data": {
      "text/plain": [
       "{'totalHits': 0,\n",
       " 'pageNumber': 0,\n",
       " 'documents': [],\n",
       " '_links': [{'link': 'https://rspace.rhrz.uni-bonn.de/api/v1/documents?pageNumber=0&query=TR_ROS-6666',\n",
       "   'rel': 'self'}]}"
      ]
     },
     "execution_count": 55,
     "metadata": {},
     "output_type": "execute_result"
    }
   ],
   "source": [
    "response"
   ]
  },
  {
   "cell_type": "code",
   "execution_count": 59,
   "id": "8bb30dee",
   "metadata": {},
   "outputs": [],
   "source": [
    "folders = api.get_folder(documents['documents'][0]['parentFolderId'])\n",
    "#print(documents['name'], documents['id'], documents['lastModified'])"
   ]
  },
  {
   "cell_type": "code",
   "execution_count": 60,
   "metadata": {},
   "outputs": [
    {
     "data": {
      "text/plain": [
       "{'id': 67346,\n",
       " 'globalId': 'NB67346',\n",
       " 'name': 'TR_ROS-6666',\n",
       " 'created': '2022-06-09T10:12:47.417Z',\n",
       " 'lastModified': '2022-06-09T10:12:47.417Z',\n",
       " 'parentFolderId': 67345,\n",
       " '_links': [{'link': 'https://rspace.rhrz.uni-bonn.de/api/v1/folders/67346',\n",
       "   'rel': 'self'}],\n",
       " 'notebook': True}"
      ]
     },
     "execution_count": 60,
     "metadata": {},
     "output_type": "execute_result"
    }
   ],
   "source": [
    "folders"
   ]
  },
  {
   "cell_type": "code",
   "execution_count": 23,
   "id": "97bb7048",
   "metadata": {},
   "outputs": [],
   "source": [
    "documents = api.get_documents()\n",
    "#print(documents['name'], documents['id'], documents['lastModified'])"
   ]
  },
  {
   "cell_type": "code",
   "execution_count": 44,
   "id": "fd1c118b",
   "metadata": {},
   "outputs": [
    {
     "data": {
      "text/plain": [
       "67346"
      ]
     },
     "execution_count": 44,
     "metadata": {},
     "output_type": "execute_result"
    }
   ],
   "source": [
    "documents['documents'][0]['parentFolderId']"
   ]
  },
  {
   "cell_type": "markdown",
   "id": "5beea213",
   "metadata": {},
   "source": [
    "#### Setup Step 2 - adding some test data.\n",
    "\n",
    "Here we'll add a CSV file to RSpace, containing some synthetic weather-related data."
   ]
  },
  {
   "cell_type": "code",
   "execution_count": 4,
   "id": "572199eb",
   "metadata": {},
   "outputs": [
    {
     "name": "stdout",
     "output_type": "stream",
     "text": [
      "102191\n"
     ]
    }
   ],
   "source": [
    "with open ('temp_data.csv') as f:\n",
    "    raw_data_file = api.upload_file(f)['id']\n",
    "raw_data_file_id= raw_data_file\n",
    "print(raw_data_file_id)"
   ]
  },
  {
   "cell_type": "markdown",
   "id": "c06e9bfe",
   "metadata": {},
   "source": [
    "#### Analysis Step 1 - retrieving dataset\n",
    "\n",
    "OK, now we can start working with this dataset. If this dataset had been uploaded by a colleague, we could have been notified by Slack, Teams, email or within RSpace itself that this file was available for analysis."
   ]
  },
  {
   "cell_type": "code",
   "execution_count": 15,
   "id": "e9377ad0",
   "metadata": {},
   "outputs": [
    {
     "name": "stdout",
     "output_type": "stream",
     "text": [
      "downloaded_temp_data.csv\n"
     ]
    }
   ],
   "source": [
    "file_name = \"downloaded_\"+(api.get_file_info(raw_data_file_id)['name'])\n",
    "print(file_name)\n",
    "\n",
    "## retrieve from RSpace - here we are downloading the file\n",
    "raw_temp_data = api.download_file(raw_data_file_id, file_name)"
   ]
  },
  {
   "cell_type": "markdown",
   "id": "6bf66c96",
   "metadata": {},
   "source": [
    "#### Analysis Step 2 - the analysis\n",
    "\n",
    "Here is where you do your actual analysis of the data... here we'll just plot the data and generate a summary, saving both to file."
   ]
  },
  {
   "cell_type": "code",
   "execution_count": 16,
   "id": "031453ef",
   "metadata": {},
   "outputs": [
    {
     "data": {
      "image/png": "[encoded data removed]",
      "text/plain": [
       "<Figure size 432x288 with 1 Axes>"
      ]
     },
     "metadata": {
      "needs_background": "light"
     },
     "output_type": "display_data"
    }
   ],
   "source": [
    "import pandas as pd;\n",
    "df = pd.read_csv(file_name)\n",
    "summary_stats = df.describe()\n",
    "\n",
    "df = df.set_index('city_id')\n",
    "plot = df.plot(ylabel='Celsius', title=f'Temperature plots from dataset {raw_data_file_id}')\n",
    "img_f= f'Temperature_per_city-{raw_data_file_id}'\n",
    "plot.get_figure().savefig(img_f)\n",
    "\n",
    "summary_stats_csv = f'{file_name[:file_name.rindex(\".\")]}-summarystats.csv'\n",
    "summary_stats.to_csv(summary_stats_csv)"
   ]
  },
  {
   "cell_type": "markdown",
   "id": "0e4dbf42",
   "metadata": {},
   "source": [
    "#### Analysis Step 3 - uploading back to RSpace\n",
    "\n",
    "You can add captions to the file to help describe your analysis."
   ]
  },
  {
   "cell_type": "code",
   "execution_count": 18,
   "id": "78677b42",
   "metadata": {},
   "outputs": [
    {
     "name": "stdout",
     "output_type": "stream",
     "text": [
      "uploaded id = 175\n",
      "uploaded id = 176\n"
     ]
    }
   ],
   "source": [
    "with open(summary_stats_csv, 'rb') as f:\n",
    "    summary_file = api.upload_file(f, caption=f\"Summary data for {raw_data_file_id}\")\n",
    "    print(f\"uploaded id = {summary_file['id']}\")\n",
    "with open(img_f+\".png\", 'rb') as f:\n",
    "    uploaded_image = api.upload_file(f, caption=f\"City vs temperature for  {raw_data_file_id}\")\n",
    "    print(f\"uploaded id = {uploaded_image['id']}\") "
   ]
  },
  {
   "cell_type": "markdown",
   "id": "3edcc2a3",
   "metadata": {},
   "source": [
    "There are several  options now:\n",
    "\n",
    "* You can create an RSpace document, and insert these files, and share the document with your group or colleage. \n",
    "* Your colleagues may have already created and shared document describing an experiment that generated these files, in which case you would already have access to a document.\n",
    "\n",
    "Here we'll go with a simple flow where we create a new RSpace document to share with the rest of our research group.\n",
    "\n",
    "The content we'll insert will be HTML. However you don't need to figure out how to display the linked files. Just include file links as `<fileId=XXXX>` syntax and RSpace will turn these into formatted links.\n"
   ]
  },
  {
   "cell_type": "code",
   "execution_count": 19,
   "id": "478909c7",
   "metadata": {},
   "outputs": [
    {
     "name": "stdout",
     "output_type": "stream",
     "text": [
      "You can view this in a browser at https://pangolin8086.researchspace.com/globalId/SD177\n"
     ]
    }
   ],
   "source": [
    "new_doc = api.create_document(name=f\"Analysis of dataset {raw_data_file_id}\")\n",
    "content = f\"\"\"\n",
    "<p>Analysis of temperature dataset from our standard locations.\n",
    "<p>No variation between locations:\n",
    "Raw data: <fileId={raw_data_file_id}>\n",
    "<p>\n",
    "Statistical summary: <fileId={summary_file['id']}>\n",
    "<p>\n",
    "Location vs temperature: <fileId={uploaded_image['id']}>\n",
    "\"\"\"\n",
    "\n",
    "updated_doc = api.append_content(new_doc['id'], content)\n",
    "\n",
    "## a simple utility function so you can get a link to view the updated contents in a browser.\n",
    "def api_to_browser(link):\n",
    "    return '/globalId/SD'.join(link.split('/api/v1/documents/'))\n",
    "\n",
    "print(f\"You can view this in a browser at {api_to_browser(updated_doc['_links'][0]['link'])}\")\n"
   ]
  },
  {
   "cell_type": "markdown",
   "id": "f39125f6",
   "metadata": {},
   "source": [
    "If you're in a  group, you can now share this with your group. You can get your groups' IDs: "
   ]
  },
  {
   "cell_type": "code",
   "execution_count": 20,
   "id": "dc355c76",
   "metadata": {},
   "outputs": [],
   "source": [
    "groups = api.get_groups()"
   ]
  },
  {
   "cell_type": "code",
   "execution_count": 21,
   "id": "cb75bba2",
   "metadata": {},
   "outputs": [
    {
     "ename": "IndexError",
     "evalue": "list index out of range",
     "output_type": "error",
     "traceback": [
      "\u001b[0;31m---------------------------------------------------------------------------\u001b[0m",
      "\u001b[0;31mIndexError\u001b[0m                                Traceback (most recent call last)",
      "\u001b[0;32m/var/folders/d6/w8p0skfd7h1gx8xzm6h9b__c0000gn/T/ipykernel_37269/1479954871.py\u001b[0m in \u001b[0;36m<module>\u001b[0;34m\u001b[0m\n\u001b[0;32m----> 1\u001b[0;31m \u001b[0mapi\u001b[0m\u001b[0;34m.\u001b[0m\u001b[0mshareDocuments\u001b[0m\u001b[0;34m(\u001b[0m\u001b[0;34m[\u001b[0m\u001b[0mnew_doc\u001b[0m\u001b[0;34m[\u001b[0m\u001b[0;34m'id'\u001b[0m\u001b[0;34m]\u001b[0m\u001b[0;34m]\u001b[0m\u001b[0;34m,\u001b[0m \u001b[0mgroups\u001b[0m\u001b[0;34m[\u001b[0m\u001b[0;36m0\u001b[0m\u001b[0;34m]\u001b[0m\u001b[0;34m[\u001b[0m\u001b[0;34m'id'\u001b[0m\u001b[0;34m]\u001b[0m\u001b[0;34m,\u001b[0m \u001b[0mpermission\u001b[0m\u001b[0;34m=\u001b[0m\u001b[0;34m\"EDIT\"\u001b[0m\u001b[0;34m)\u001b[0m\u001b[0;34m\u001b[0m\u001b[0;34m\u001b[0m\u001b[0m\n\u001b[0m",
      "\u001b[0;31mIndexError\u001b[0m: list index out of range"
     ]
    }
   ],
   "source": [
    "api.shareDocuments([new_doc['id']], groups[0]['id'], permission=\"EDIT\")"
   ]
  },
  {
   "cell_type": "code",
   "execution_count": null,
   "id": "4d4c1752",
   "metadata": {},
   "outputs": [],
   "source": []
  }
 ],
 "metadata": {
  "kernelspec": {
   "display_name": "datajoint",
   "language": "python",
   "name": "python3"
  },
  "language_info": {
   "codemirror_mode": {
    "name": "ipython",
    "version": 3
   },
   "file_extension": ".py",
   "mimetype": "text/x-python",
   "name": "python",
   "nbconvert_exporter": "python",
   "pygments_lexer": "ipython3",
   "version": "3.11.0"
  },
  "vscode": {
   "interpreter": {
    "hash": "3d54a235c72bff1db7a2e26e0ad16863eb61526ee4a7a60f1fc1465fe275a070"
   }
  }
 },
 "nbformat": 4,
 "nbformat_minor": 5
}
